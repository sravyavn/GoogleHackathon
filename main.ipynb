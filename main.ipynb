{
 "cells": [
  {
   "cell_type": "code",
   "execution_count": 1,
   "id": "7a312f89",
   "metadata": {},
   "outputs": [
    {
     "name": "stdout",
     "output_type": "stream",
     "text": [
      "Note: you may need to restart the kernel to use updated packages.\n",
      "Note: you may need to restart the kernel to use updated packages.\n",
      "Note: you may need to restart the kernel to use updated packages.\n"
     ]
    }
   ],
   "source": [
    "%pip install streamlit -q\n",
    "%pip install python-dotenv -q\n",
    "%pip install Pillow -q"
   ]
  },
  {
   "cell_type": "code",
   "execution_count": 3,
   "id": "f679a11e",
   "metadata": {},
   "outputs": [
    {
     "name": "stdout",
     "output_type": "stream",
     "text": [
      "Overwriting app.py\n"
     ]
    }
   ],
   "source": [
    "%%writefile app.py\n",
    "\n",
    "import streamlit as st\n",
    "import google.generativeai as genai\n",
    "import dotenv\n",
    "import os\n",
    "from PIL import Image\n",
    "\n",
    "dotenv.load_dotenv()\n",
    "api_key = os.getenv(\"API_KEY\")\n",
    "genai.configure(api_key=api_key)\n",
    "model = genai.GenerativeModel(\"gemini-2.0-flash-exp-image-generation\")\n",
    "\n",
    "\n",
    "SYSTEM_PROMPT = \"\"\"You are a witty product-safety assistant! I will give you product names. For each one:\n",
    "\n",
    "1.  Check if the product contains harmful ingredients. If yes, list them.\n",
    "2.  Give a recommendation score from 1 to 5 (1 = Avoid, 5 = Safe & Awesome).\n",
    "3.  Provide links to the product from 2 different e-commerce websites (e.g., Walmart, Target). Include the product name in the URL if possible. State the current price next to each link.\n",
    "4.  Suggest keywords that could be used to find a relevant image for this product online.\n",
    "5.  Keep your response under 150 words per product. Make it informative but fun with emoticons!\"\"\"\n",
    "\n",
    "\n",
    "def analyze_product(product_name):\n",
    "    prompt = f\"\"\"Analyze the safety of the following product: {product_name}\n",
    "            Provide information on harmful ingredients, a safety score (1-5), and links to page with that product online (with prices). Also, suggest image keywords.\"\"\"\n",
    "    try:\n",
    "        response = model.generate_content(\n",
    "            [{\"role\": \"user\", \"parts\": SYSTEM_PROMPT}, {\"role\": \"user\", \"parts\": prompt}]\n",
    "        )\n",
    "        return response.candidates[0].content.parts[0].text\n",
    "    except Exception as e:\n",
    "        return f\"Uh oh! Something went wrong: {str(e)}\"\n",
    "\n",
    "\n",
    "st.title(\"Safety Sleuth 🕵️‍♀️ - Your Witty Product Pal\")\n",
    "\n",
    "if \"messages\" not in st.session_state:\n",
    "    st.session_state[\"messages\"] = []\n",
    "\n",
    "user_input = st.chat_input(\"Enter a product name:\")\n",
    "\n",
    "if user_input:\n",
    "    st.session_state[\"messages\"].append({\"role\": \"user\", \"parts\": user_input})\n",
    "    safety_analysis = analyze_product(user_input)\n",
    "    st.session_state[\"messages\"].append({\"role\": \"model\", \"parts\": safety_analysis})\n",
    "\n",
    "for message in st.session_state[\"messages\"]:\n",
    "    if message[\"role\"] == \"model\":\n",
    "        st.markdown(f\"**Safety Sleuth:** {message['parts']}\", unsafe_allow_html=True)\n",
    "    elif message[\"role\"] == \"user\":\n",
    "        st.write(f\"**You:** {message['parts']}\")"
   ]
  },
  {
   "cell_type": "code",
   "execution_count": null,
   "id": "6299762a",
   "metadata": {},
   "outputs": [],
   "source": [
    "%streamlit run app.py &>/content/logs.txt & curl ipv4.icanhazip.com\n",
    "%npx localtunnel --port 8501"
   ]
  }
 ],
 "metadata": {
  "kernelspec": {
   "display_name": "Python 3",
   "language": "python",
   "name": "python3"
  },
  "language_info": {
   "codemirror_mode": {
    "name": "ipython",
    "version": 3
   },
   "file_extension": ".py",
   "mimetype": "text/x-python",
   "name": "python",
   "nbconvert_exporter": "python",
   "pygments_lexer": "ipython3",
   "version": "3.13.1"
  }
 },
 "nbformat": 4,
 "nbformat_minor": 5
}
